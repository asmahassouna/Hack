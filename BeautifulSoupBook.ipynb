{
  "nbformat": 4,
  "nbformat_minor": 0,
  "metadata": {
    "colab": {
      "provenance": [],
      "authorship_tag": "ABX9TyMmsfjX8z/YDRBKvLhUbD0f",
      "include_colab_link": true
    },
    "kernelspec": {
      "name": "python3",
      "display_name": "Python 3"
    },
    "language_info": {
      "name": "python"
    }
  },
  "cells": [
    {
      "cell_type": "markdown",
      "metadata": {
        "id": "view-in-github",
        "colab_type": "text"
      },
      "source": [
        "<a href=\"https://colab.research.google.com/github/asmahassouna/Hack/blob/main/BeautifulSoupBook.ipynb\" target=\"_parent\"><img src=\"https://colab.research.google.com/assets/colab-badge.svg\" alt=\"Open In Colab\"/></a>"
      ]
    },
    {
      "cell_type": "code",
      "execution_count": null,
      "metadata": {
        "colab": {
          "base_uri": "https://localhost:8080/"
        },
        "id": "rzYzWe48PAFt",
        "outputId": "a5098c08-de8a-455c-eacb-3e57811e4ab7"
      },
      "outputs": [
        {
          "output_type": "stream",
          "name": "stdout",
          "text": [
            "Title: Book 1\n",
            "Author: Author 1\n",
            "Price: $10\n",
            "\n",
            "Title: Book 2\n",
            "Author: Author 2\n",
            "Price: $15\n",
            "\n",
            "Title: Book 3\n",
            "Author: Author 3\n",
            "Price: $20\n",
            "\n"
          ]
        }
      ],
      "source": [
        "from bs4 import BeautifulSoup\n",
        "\n",
        "# HTML de notre site fictif\n",
        "html_content = \"\"\"\n",
        "<!DOCTYPE html>\n",
        "<html lang=\"en\">\n",
        "<head>\n",
        "    <meta charset=\"UTF-8\">\n",
        "    <meta name=\"viewport\" content=\"width=device-width, initial-scale=1.0\">\n",
        "    <title>Books Store</title>\n",
        "</head>\n",
        "<body>\n",
        "    <h1>Books Store</h1>\n",
        "    <div class=\"book\">\n",
        "        <h2>Title: Book 1</h2>\n",
        "        <p>Author: Author 1</p>\n",
        "        <p>Price: $10</p>\n",
        "    </div>\n",
        "    <div class=\"book\">\n",
        "        <h2>Title: Book 2</h2>\n",
        "        <p>Author: Author 2</p>\n",
        "        <p>Price: $15</p>\n",
        "    </div>\n",
        "    <div class=\"book\">\n",
        "        <h2>Title: Book 3</h2>\n",
        "        <p>Author: Author 3</p>\n",
        "        <p>Price: $20</p>\n",
        "    </div>\n",
        "</body>\n",
        "</html>\n",
        "\"\"\"\n",
        "\n",
        "# Analyser le contenu HTML avec BeautifulSoup\n",
        "soup = BeautifulSoup(html_content, 'html.parser')\n",
        "\n",
        "# Trouver tous les éléments de classe 'book'\n",
        "books = soup.find_all('div', class_='book')\n",
        "\n",
        "# Afficher les détails de chaque livre\n",
        "for book in books:\n",
        "    title = book.find('h2').text.replace('Title: ', '')\n",
        "    author = book.find('p', string=lambda s: 'Author' in s).text.replace('Author: ', '')\n",
        "    price = book.find('p', string=lambda s: 'Price' in s).text.replace('Price: ', '')\n",
        "    print(\"Title:\", title)\n",
        "    print(\"Author:\", author)\n",
        "    print(\"Price:\", price)\n",
        "    print()\n"
      ]
    }
  ]
}