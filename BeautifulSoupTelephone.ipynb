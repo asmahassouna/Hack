{
  "nbformat": 4,
  "nbformat_minor": 0,
  "metadata": {
    "colab": {
      "provenance": [],
      "authorship_tag": "ABX9TyOSVdTZSIuQWc1YNVKQhsMq",
      "include_colab_link": true
    },
    "kernelspec": {
      "name": "python3",
      "display_name": "Python 3"
    },
    "language_info": {
      "name": "python"
    }
  },
  "cells": [
    {
      "cell_type": "markdown",
      "metadata": {
        "id": "view-in-github",
        "colab_type": "text"
      },
      "source": [
        "<a href=\"https://colab.research.google.com/github/asmahassouna/Hack/blob/main/BeautifulSoupTelephone.ipynb\" target=\"_parent\"><img src=\"https://colab.research.google.com/assets/colab-badge.svg\" alt=\"Open In Colab\"/></a>"
      ]
    },
    {
      "cell_type": "code",
      "execution_count": 16,
      "metadata": {
        "colab": {
          "base_uri": "https://localhost:8080/"
        },
        "id": "3SiQ1fv3LdAW",
        "outputId": "9132865c-0e77-4cf6-a1e0-0a7e70cf7cda"
      },
      "outputs": [
        {
          "output_type": "stream",
          "name": "stdout",
          "text": [
            "********************* telephone 1\n",
            "Numéro: 55555555\n",
            "Nom: Author 1\n",
            "Operator: : TT\n",
            "\n",
            "********************* telephone 2\n",
            "Numéro: 66666666\n",
            "Nom: Author 2\n",
            "Operator: : OR\n",
            "\n",
            "********************* telephone 3\n",
            "Numéro: 77777777\n",
            "Nom: Author 3\n",
            "Operator: : RE\n",
            "\n"
          ]
        }
      ],
      "source": [
        "import requests\n",
        "from bs4 import BeautifulSoup\n",
        "\n",
        "# HTML de notre site fictif\n",
        "html_content = \"\"\"\n",
        "<!DOCTYPE html>\n",
        "<html lang=\"en\">\n",
        "<head>\n",
        "    <meta charset=\"UTF-8\">\n",
        "    <meta name=\"viewport\" content=\"width=device-width\", initial-scale=1.0, user-agent:\"chrome\">\n",
        "    <title>Pages Jaunes</title>\n",
        "</head>\n",
        "<body>\n",
        "\n",
        "    <div class=\"tel\">\n",
        "        <h1>telephone 1</h1>\n",
        "        <h2>num: 55555555</h2>\n",
        "        <h3>name: Author 1</h3>\n",
        "        <p>operator: TT</p>\n",
        "    </div>\n",
        "    <div class=\"tel\">\n",
        "        <h1>telephone 2</h1>\n",
        "        <h2>num: 66666666</h2>\n",
        "        <h3>name: Author 2</h3>\n",
        "        <p>operator: OR</p>\n",
        "    </div>\n",
        "    <div class=\"tel\">\n",
        "        <h1>telephone 3</h1>\n",
        "        <h2>num: 77777777</h2>\n",
        "        <h3>name: Author 3</h3>\n",
        "        <p>operator: RE</p>\n",
        "    </div>\n",
        "</body>\n",
        "</html>\n",
        "\"\"\"\n",
        "\n",
        "\n",
        "def exemple_asma_scrap(page_html):\n",
        "\n",
        "    #analyser le contenu avec BeautifulSoup\n",
        "    soup = BeautifulSoup(page_html, \"html.parser\")\n",
        "    tels=soup.find_all(\"div\", class_=\"tel\")\n",
        "\n",
        "    for tel in tels:\n",
        "        nt=tel.find('h1').text\n",
        "        num = tel.find('h2',string=lambda s: 'num' in s ).text.replace('num: ','')\n",
        "        nom = tel.find('h3',string=lambda s:'name' in s).text.replace('name: ', '')\n",
        "        operator = tel.find('p', string=lambda s:'operator' in s).text.replace('operator', '')\n",
        "        print(\"*********************\", nt)\n",
        "        print(\"Numéro:\", num)\n",
        "        print(\"Nom:\", nom)\n",
        "        print(\"Operator:\", operator)\n",
        "        print()\n",
        "\n",
        "if __name__==\"__main__\":\n",
        "  exemple_asma_scrap(html_content)\n",
        "\n"
      ]
    },
    {
      "cell_type": "markdown",
      "source": [],
      "metadata": {
        "id": "vZuNlHZJOR08"
      }
    }
  ]
}