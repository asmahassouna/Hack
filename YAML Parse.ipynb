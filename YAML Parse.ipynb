{
  "nbformat": 4,
  "nbformat_minor": 0,
  "metadata": {
    "colab": {
      "provenance": [],
      "authorship_tag": "ABX9TyNFxmaH/mOwxeqbE9UPMd9N",
      "include_colab_link": true
    },
    "kernelspec": {
      "name": "python3",
      "display_name": "Python 3"
    },
    "language_info": {
      "name": "python"
    }
  },
  "cells": [
    {
      "cell_type": "markdown",
      "metadata": {
        "id": "view-in-github",
        "colab_type": "text"
      },
      "source": [
        "<a href=\"https://colab.research.google.com/github/asmahassouna/Hack/blob/main/YAML%20Parse.ipynb\" target=\"_parent\"><img src=\"https://colab.research.google.com/assets/colab-badge.svg\" alt=\"Open In Colab\"/></a>"
      ]
    },
    {
      "cell_type": "code",
      "execution_count": 7,
      "metadata": {
        "colab": {
          "base_uri": "https://localhost:8080/"
        },
        "id": "Fq91zgLXvwhV",
        "outputId": "f68c3f4e-a0a4-409c-8fd9-d34ea75a8985"
      },
      "outputs": [
        {
          "output_type": "stream",
          "name": "stdout",
          "text": [
            "Test de vulnérabilité pour l'injection SQL :\n",
            "Vérifier la requête SQL : SELECT * FROM users WHERE username = 'admin' AND password = '$password';\n",
            "---------------------------------------------\n",
            "Test de vulnérabilité pour XSS :\n",
            "Vérifier le champ : comment\n",
            "Valeur d'entrée : <script>alert('XSS!');</script>\n",
            "---------------------------------------------\n"
          ]
        }
      ],
      "source": [
        "import yaml\n",
        "\n",
        "def detect_and_generate_vulnerability_tests(yaml_file):\n",
        "    with open(yaml_file, 'r') as file:\n",
        "        yaml_data = yaml.safe_load(file)\n",
        "\n",
        "        for step in yaml_data['steps']:\n",
        "            step_type = step.get('type', None)\n",
        "\n",
        "            if step_type == 'sql_injection':\n",
        "                generate_sql_injection_test(step)\n",
        "            elif step_type == 'xss':\n",
        "                generate_xss_test(step)\n",
        "            # Ajoutez d'autres types d'étapes et leurs tests de vulnérabilité associés ici\n",
        "\n",
        "def generate_sql_injection_test(step):\n",
        "    # Générer le test de vulnérabilité pour l'injection SQL\n",
        "    print(\"Test de vulnérabilité pour l'injection SQL :\")\n",
        "    print(f\"Vérifier la requête SQL : {step['sql_query']}\")\n",
        "    print(\"---------------------------------------------\")\n",
        "\n",
        "def generate_xss_test(step):\n",
        "    # Générer le test de vulnérabilité pour XSS\n",
        "    print(\"Test de vulnérabilité pour XSS :\")\n",
        "    print(f\"Vérifier le champ : {step['field']}\")\n",
        "    print(f\"Valeur d'entrée : {step['input_value']}\")\n",
        "    print(\"---------------------------------------------\")\n",
        "\n",
        "# Exemple d'utilisation\n",
        "yaml_file = '/content/sample_data/workflow.yaml'\n",
        "detect_and_generate_vulnerability_tests(yaml_file)\n"
      ]
    }
  ]
}