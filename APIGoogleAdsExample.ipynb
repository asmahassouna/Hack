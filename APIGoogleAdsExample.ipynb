{
  "nbformat": 4,
  "nbformat_minor": 0,
  "metadata": {
    "colab": {
      "provenance": [],
      "authorship_tag": "ABX9TyNlgArX+8GxY9mfDrbi8xuM",
      "include_colab_link": true
    },
    "kernelspec": {
      "name": "python3",
      "display_name": "Python 3"
    },
    "language_info": {
      "name": "python"
    }
  },
  "cells": [
    {
      "cell_type": "markdown",
      "metadata": {
        "id": "view-in-github",
        "colab_type": "text"
      },
      "source": [
        "<a href=\"https://colab.research.google.com/github/asmahassouna/Hack/blob/main/APIGoogleAdsExample.ipynb\" target=\"_parent\"><img src=\"https://colab.research.google.com/assets/colab-badge.svg\" alt=\"Open In Colab\"/></a>"
      ]
    },
    {
      "cell_type": "code",
      "execution_count": null,
      "metadata": {
        "id": "3xciohnQZJVB"
      },
      "outputs": [],
      "source": [
        "from google.ads.google_ads.client import GoogleAdsClient\n",
        "\n",
        "# Initialisez le client Google Ads avec vos informations d'identification\n",
        "client = GoogleAdsClient.load_from_storage(\"/chemin/complet/vers/google-ads.yaml\")\n",
        "\n",
        "# Définissez la requête pour récupérer les annonces\n",
        "query = \"\"\"\n",
        "    SELECT ad.id, ad.headline, ad.description\n",
        "    FROM ad\n",
        "\"\"\"\n",
        "\n",
        "# Exécutez la requête et récupérez les données des annonces\n",
        "response = client.service.google_ads.search(\n",
        "    customer_id='YOUR_CUSTOMER_ID',\n",
        "    query=query\n",
        ")\n",
        "\n",
        "# Parcourez les résultats et affichez les informations sur les annonces\n",
        "for row in response:\n",
        "    ad = row.ad\n",
        "    print(f\"ID: {ad.id}, Headline: {ad.headline}, Description: {ad.description}\")\n"
      ]
    }
  ]
}